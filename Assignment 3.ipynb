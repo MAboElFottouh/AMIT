{
 "cells": [
  {
   "cell_type": "markdown",
   "metadata": {},
   "source": [
    "# Assignment 3"
   ]
  },
  {
   "cell_type": "markdown",
   "metadata": {},
   "source": [
    "### Write a function to count the number 4 in a given list."
   ]
  },
  {
   "cell_type": "code",
   "execution_count": 1,
   "metadata": {},
   "outputs": [
    {
     "name": "stdout",
     "output_type": "stream",
     "text": [
      "6\n"
     ]
    }
   ],
   "source": [
    "def count(x):\n",
    "    n = 0\n",
    "    for i in range(len(x)):\n",
    "        #If the number is 4\n",
    "        if x[i] == 4 :\n",
    "            #counter ++\n",
    "            n+=1\n",
    "    return n\n",
    "x = [4,4,4,5,4,5,4,4]\n",
    "print(count(x))"
   ]
  },
  {
   "cell_type": "markdown",
   "metadata": {},
   "source": [
    "### write a  function to check whether a number is divisible by another number."
   ]
  },
  {
   "cell_type": "code",
   "execution_count": 48,
   "metadata": {},
   "outputs": [
    {
     "name": "stdout",
     "output_type": "stream",
     "text": [
      "not Prime\n"
     ]
    }
   ],
   "source": [
    "def whether(num):\n",
    "    #if number = 2 or 1 \n",
    "    flag = 0\n",
    "    if num == 2 or num ==1:\n",
    "        print('p')\n",
    "    #loop start 2 to number Because all number % 1 = 0\n",
    "    for i in range(2,num):\n",
    "        #If the remainder is 0 with any number Means not Prime and break \n",
    "        if num % i == 0:\n",
    "            print('not Prime')\n",
    "            #chane flag\n",
    "            flag=1\n",
    "            break\n",
    "    if flag == 0:\n",
    "        print('Prime')      \n",
    "whether(9) "
   ]
  },
  {
   "cell_type": "markdown",
   "metadata": {},
   "source": [
    "### write a function to find the maximum and minimum numbers from a sequence of numbers."
   ]
  },
  {
   "cell_type": "code",
   "execution_count": 51,
   "metadata": {},
   "outputs": [
    {
     "name": "stdout",
     "output_type": "stream",
     "text": [
      "min number-5 max number 45 \n"
     ]
    }
   ],
   "source": [
    "x=[1,2,3,3,3,5,45,6,8,-5]\n",
    "def maxmin(x):\n",
    "    #use min max function in .format() to print min and max number \n",
    "    return print('min number {} max number {} '.format(min(x),max(x)))\n",
    "maxmin(x)"
   ]
  },
  {
   "cell_type": "markdown",
   "metadata": {},
   "source": [
    "### Write a Python function that takes two lists and returns True if they have at least one common member."
   ]
  },
  {
   "cell_type": "code",
   "execution_count": 69,
   "metadata": {},
   "outputs": [
    {
     "name": "stdout",
     "output_type": "stream",
     "text": [
      "not common member\n"
     ]
    }
   ],
   "source": [
    "x=[1,2,3,4]\n",
    "y=[7,7,9]\n",
    "def fun(x,y):\n",
    "    flag=0\n",
    "    #instead  to loop in to list\n",
    "    for i in range(len(x)):\n",
    "        for j in range(len(y)):\n",
    "            #if any number  = number print common and change flag \n",
    "            if x[i] == y[j]:\n",
    "                print('common member')\n",
    "                flag = 1\n",
    "                break\n",
    "    #if flag = 0 Means not comman in any number \n",
    "    if flag == 0 :\n",
    "        print('not common member')\n",
    "        \n",
    "fun(x,y)"
   ]
  },
  {
   "cell_type": "markdown",
   "metadata": {},
   "source": [
    "### Write a Python function to calculate the factorial of a number (a non-negative integer). The function accepts the number from the user"
   ]
  },
  {
   "cell_type": "code",
   "execution_count": 85,
   "metadata": {},
   "outputs": [
    {
     "name": "stdout",
     "output_type": "stream",
     "text": [
      "enter number : -1\n",
      "enter number : -5\n",
      "enter number : 6\n",
      "720\n"
     ]
    }
   ],
   "source": [
    "x = int(input('enter number : '))\n",
    "\n",
    "#if number negative scan agin\n",
    "while x < 0:\n",
    "    x = int(input('enter number : '))\n",
    "\n",
    "def funn(x):\n",
    "    sum = 1\n",
    "    #start loop with 1 not 0 and and in x+1 Because i need number of x \n",
    "    for i in range(1,x+1):\n",
    "        sum *= i\n",
    "    print(sum)\n",
    "funn(x)"
   ]
  },
  {
   "cell_type": "markdown",
   "metadata": {},
   "source": [
    "### Write a Python function to check whether a number is in a given range.\n",
    "\n",
    "### The range is from 3 to 11\n"
   ]
  },
  {
   "cell_type": "code",
   "execution_count": 91,
   "metadata": {},
   "outputs": [
    {
     "name": "stdout",
     "output_type": "stream",
     "text": [
      "False\n"
     ]
    }
   ],
   "source": [
    "def func(x):\n",
    "    if x in range(3,11):\n",
    "        print('True')\n",
    "    else:\n",
    "        print('False')\n",
    "func(12)"
   ]
  },
  {
   "cell_type": "markdown",
   "metadata": {},
   "source": [
    "### Write a  program to create the multiplication table (from 1 to 10) of a number."
   ]
  },
  {
   "cell_type": "code",
   "execution_count": 93,
   "metadata": {},
   "outputs": [
    {
     "name": "stdout",
     "output_type": "stream",
     "text": [
      "5 * 1 = 5\n",
      "5 * 2 = 10\n",
      "5 * 3 = 15\n",
      "5 * 4 = 20\n",
      "5 * 5 = 25\n",
      "5 * 6 = 30\n",
      "5 * 7 = 35\n",
      "5 * 8 = 40\n",
      "5 * 9 = 45\n",
      "5 * 10 = 50\n"
     ]
    }
   ],
   "source": [
    "def mulp(x):\n",
    "    for i in range(1,11):\n",
    "        print('{} * {} = {}'.format(x,i,(i*x)))\n",
    "mulp(5)"
   ]
  },
  {
   "cell_type": "markdown",
   "metadata": {},
   "source": [
    "#### LESSER OF TWO EVENS: Write a function that returns the lesser of two given numbers *if* both numbers are even, but returns the greater if one or both numbers are odd\n",
    "    lesser_of_two_evens(2,4) --> 2\n",
    "    lesser_of_two_evens(2,5) --> 5"
   ]
  },
  {
   "cell_type": "code",
   "execution_count": 103,
   "metadata": {},
   "outputs": [
    {
     "name": "stdout",
     "output_type": "stream",
     "text": [
      "5\n"
     ]
    }
   ],
   "source": [
    "def lesser_of_two_evens(x,y):\n",
    "    #if to number is even\n",
    "    if (x%2 ==0) and (y % 2 == 0):\n",
    "        #if X > Y retrun small number y\n",
    "        if x > y :\n",
    "            print(y)\n",
    "        else:\n",
    "            print(x)\n",
    "    #if any number is odd\n",
    "    else:\n",
    "        if x > y :\n",
    "            print(x)\n",
    "        else:\n",
    "            print(y)\n",
    "lesser_of_two_evens(2,5)"
   ]
  },
  {
   "cell_type": "markdown",
   "metadata": {},
   "source": [
    "#### ANIMAL CRACKERS: Write a function takes a two-word string and returns True if both words begin with same letter\n",
    "    animal_crackers('Levelheaded Llama') --> True\n",
    "    animal_crackers('Crazy Kangaroo') --> False"
   ]
  },
  {
   "cell_type": "code",
   "execution_count": 106,
   "metadata": {},
   "outputs": [
    {
     "name": "stdout",
     "output_type": "stream",
     "text": [
      "False\n"
     ]
    }
   ],
   "source": [
    "def animal_crackers(x):\n",
    "    #slpit string in list\n",
    "    y = x.split()\n",
    "    #chaek first elamt in word\n",
    "    if y[0][0] == y[1][0]:\n",
    "        print('True')\n",
    "    else:\n",
    "        print('False')\n",
    "    \n",
    "animal_crackers('Crazy Kangaroo')"
   ]
  },
  {
   "cell_type": "markdown",
   "metadata": {},
   "source": [
    "#### MAKES TWENTY: Given two integers, return True if the sum of the integers is 20 *or* if one of the integers is 20. If not, return False\n",
    "\n",
    "    makes_twenty(20,10) --> True\n",
    "    makes_twenty(12,8) --> True\n",
    "    makes_twenty(2,3) --> False"
   ]
  },
  {
   "cell_type": "code",
   "execution_count": 111,
   "metadata": {},
   "outputs": [
    {
     "name": "stdout",
     "output_type": "stream",
     "text": [
      "True\n"
     ]
    }
   ],
   "source": [
    "def makes_twenty(x,y):\n",
    "    #if sum x , y = 20\n",
    "    if x+y==20:\n",
    "        print('True')\n",
    "    #if any number = 20\n",
    "    elif x == 20 or y == 20 :\n",
    "        print('True')\n",
    "    else:\n",
    "        print('False')\n",
    "makes_twenty(12,8)"
   ]
  },
  {
   "cell_type": "markdown",
   "metadata": {},
   "source": [
    "#### ALMOST THERE: Given an integer n, return True if n is within 10 of either 100 or 200\n",
    "\n",
    "    almost_there(90) --> True\n",
    "    almost_there(104) --> True\n",
    "    almost_there(150) --> False\n",
    "    almost_there(209) --> True\n",
    "    \n",
    "NOTE: `abs(num)` returns the absolute value of a number"
   ]
  },
  {
   "cell_type": "code",
   "execution_count": 119,
   "metadata": {},
   "outputs": [
    {
     "name": "stdout",
     "output_type": "stream",
     "text": [
      "True\n"
     ]
    }
   ],
   "source": [
    "def almost_there(x):\n",
    "    x=abs(x)\n",
    "    if x <= 110 and x >= 90:\n",
    "        print('True')\n",
    "    elif x <= 210 and x >= 290:\n",
    "        print('True')\n",
    "    else:\n",
    "        print('False')\n",
    "    \n",
    "almost_there(90)"
   ]
  },
  {
   "cell_type": "markdown",
   "metadata": {},
   "source": [
    "#### BLACKJACK: Given three integers between 1 and 11, if their sum is less than or equal to 21, return their sum. If their sum exceeds 21 *and* there's an eleven, reduce the total sum by 10. Finally, if the sum  exceeds 21, return 'BUST'\n",
    "    blackjack(5,6,7) --> 18\n",
    "    blackjack(9,9,9) --> 'BUST'\n",
    "    blackjack(9,9,11) --> 19"
   ]
  },
  {
   "cell_type": "code",
   "execution_count": 141,
   "metadata": {},
   "outputs": [
    {
     "name": "stdout",
     "output_type": "stream",
     "text": [
      "BUST\n"
     ]
    }
   ],
   "source": [
    "def blackjack(x,y,z):\n",
    "    sum = x+y+z\n",
    "    if sum <= 21 :\n",
    "        print('sum : {}'.format(sum))\n",
    "    elif (sum > 21):\n",
    "        if (x==11 or y==11 or z==11):\n",
    "            print('sum = {}'.format(sum-10))\n",
    "        else :\n",
    "            print('BUST')\n",
    "                   \n",
    "blackjack(9,9,9)"
   ]
  },
  {
   "cell_type": "code",
   "execution_count": null,
   "metadata": {},
   "outputs": [],
   "source": []
  }
 ],
 "metadata": {
  "kernelspec": {
   "display_name": "Python 3",
   "language": "python",
   "name": "python3"
  },
  "language_info": {
   "codemirror_mode": {
    "name": "ipython",
    "version": 3
   },
   "file_extension": ".py",
   "mimetype": "text/x-python",
   "name": "python",
   "nbconvert_exporter": "python",
   "pygments_lexer": "ipython3",
   "version": "3.8.8"
  }
 },
 "nbformat": 4,
 "nbformat_minor": 2
}
