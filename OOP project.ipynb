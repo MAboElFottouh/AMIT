{
 "cells": [
  {
   "cell_type": "code",
   "execution_count": 40,
   "id": "764ae627",
   "metadata": {},
   "outputs": [],
   "source": [
    "class customer:\n",
    "    customer_number = 0 \n",
    "    balance = 0 ##balance\n",
    "    \n",
    "    def __init__ (self,name,age):\n",
    "        customer.customer_number +=1\n",
    "        self.name = name\n",
    "        self.age = age \n",
    "        \n",
    "    \n",
    "    def deposit(self,x):\n",
    "        self.balance = self.balance + x \n",
    "    def Withdrawal(self,x):\n",
    "        self.balance = self.balance - x\n",
    "    def info(self):\n",
    "        print(\"name {} , age {}, balance = {} , babk number {}\".format(self.name,self.age,self.balance,self.customer_number))\n",
    "        \n"
   ]
  },
  {
   "cell_type": "code",
   "execution_count": 22,
   "id": "7d846876",
   "metadata": {},
   "outputs": [],
   "source": [
    "mahmoud = customer(\"mahmoud\",24)"
   ]
  },
  {
   "cell_type": "code",
   "execution_count": 36,
   "id": "713abbed",
   "metadata": {},
   "outputs": [],
   "source": [
    "mahmoud.deposit(100)"
   ]
  },
  {
   "cell_type": "code",
   "execution_count": 24,
   "id": "11243d77",
   "metadata": {},
   "outputs": [
    {
     "name": "stdout",
     "output_type": "stream",
     "text": [
      "name mahmoud , age 24, balance = 100 , babk number 1\n"
     ]
    }
   ],
   "source": [
    "mahmoud.info()"
   ]
  },
  {
   "cell_type": "code",
   "execution_count": 25,
   "id": "82876cbc",
   "metadata": {},
   "outputs": [],
   "source": [
    "ahmed = customer(\"ahmed\",25)"
   ]
  },
  {
   "cell_type": "code",
   "execution_count": 39,
   "id": "74767c40",
   "metadata": {},
   "outputs": [
    {
     "name": "stdout",
     "output_type": "stream",
     "text": [
      "name ahmed , age 25, balance = -50 , babk number 2\n"
     ]
    }
   ],
   "source": [
    "ahmed.info()"
   ]
  },
  {
   "cell_type": "code",
   "execution_count": 28,
   "id": "7cd92d5a",
   "metadata": {},
   "outputs": [],
   "source": [
    "mahmoud.Withdrawal(50)"
   ]
  },
  {
   "cell_type": "code",
   "execution_count": 34,
   "id": "10504e03",
   "metadata": {},
   "outputs": [
    {
     "name": "stdout",
     "output_type": "stream",
     "text": [
      "name mahmoud , age 24, balance = 50 , babk number 2\n"
     ]
    }
   ],
   "source": [
    "mahmoud.info()"
   ]
  },
  {
   "cell_type": "code",
   "execution_count": 38,
   "id": "bd885e79",
   "metadata": {},
   "outputs": [],
   "source": [
    "ahmed.Withdrawal(50)"
   ]
  },
  {
   "cell_type": "code",
   "execution_count": null,
   "id": "38f2ca6a",
   "metadata": {},
   "outputs": [],
   "source": []
  }
 ],
 "metadata": {
  "kernelspec": {
   "display_name": "Python 3",
   "language": "python",
   "name": "python3"
  },
  "language_info": {
   "codemirror_mode": {
    "name": "ipython",
    "version": 3
   },
   "file_extension": ".py",
   "mimetype": "text/x-python",
   "name": "python",
   "nbconvert_exporter": "python",
   "pygments_lexer": "ipython3",
   "version": "3.8.8"
  }
 },
 "nbformat": 4,
 "nbformat_minor": 5
}
